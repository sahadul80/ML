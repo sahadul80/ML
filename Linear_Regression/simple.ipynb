{
  "nbformat": 4,
  "nbformat_minor": 0,
  "metadata": {
    "colab": {
      "provenance": []
    },
    "kernelspec": {
      "name": "python3",
      "display_name": "Python 3"
    },
    "language_info": {
      "name": "python"
    }
  },
  "cells": [
    {
      "cell_type": "markdown",
      "source": [
        "## Simple Regression Exercise"
      ],
      "metadata": {
        "id": "QWMJIhnmPnwU"
      }
    },
    {
      "cell_type": "code",
      "source": [
        "from google.colab import drive\n",
        "import sys\n",
        "import numpy as np\n",
        "from matplotlib import pyplot as plt\n",
        "import numpy.linalg as la"
      ],
      "metadata": {
        "id": "eE2Wlk-qPrWf"
      },
      "execution_count": 1,
      "outputs": []
    },
    {
      "cell_type": "markdown",
      "source": [
        "# Compute the sample mean and standard deviations for each feature (column)\n",
        "# across the training examples (rows) from the data matrix X."
      ],
      "metadata": {
        "id": "5kILUnQCRnGj"
      }
    },
    {
      "cell_type": "code",
      "source": [
        "def mean_std(X):\n",
        "    mean = np.mean(X, axis=0)\n",
        "    std = np.std(X, axis=0)\n",
        "    return mean, std"
      ],
      "metadata": {
        "id": "Y6rhwGfxPyNO"
      },
      "execution_count": 2,
      "outputs": []
    },
    {
      "cell_type": "markdown",
      "source": [
        "# Standardize the features of the examples in X by subtracting their mean and\n",
        "# dividing by their standard deviation, as provided in the parameters."
      ],
      "metadata": {
        "id": "3wcr7z4BRugk"
      }
    },
    {
      "cell_type": "code",
      "source": [
        "def standardize(X, mean, std):\n",
        "    S = (X - mean) / std\n",
        "    return S"
      ],
      "metadata": {
        "id": "o6ERWcQ3RxuE"
      },
      "execution_count": 3,
      "outputs": []
    },
    {
      "cell_type": "markdown",
      "source": [
        "# Read data matrix X and labels t from text file."
      ],
      "metadata": {
        "id": "MevfvQLvR2xM"
      }
    },
    {
      "cell_type": "code",
      "source": [
        "def read_data(file_name):\n",
        "    data = np.loadtxt(file_name)\n",
        "    X = data[:, :-1]\n",
        "    t = data[:, -1]\n",
        "    return X, t"
      ],
      "metadata": {
        "id": "_izSlX-bR6Yk"
      },
      "execution_count": 4,
      "outputs": []
    },
    {
      "cell_type": "markdown",
      "source": [
        "# Implement gradient descent algorithm to compute w = [w0, w1]."
      ],
      "metadata": {
        "id": "-adVUiFlSDAb"
      }
    },
    {
      "cell_type": "code",
      "source": [
        "def train(X, t, eta, epochs):\n",
        "    costs = []\n",
        "    ep = []\n",
        "    w = np.zeros(X.shape[1])\n",
        "    for epoch in range(epochs):\n",
        "        grad = compute_gradient(X, t, w)\n",
        "        w -= eta * grad\n",
        "        if epoch % 10 == 0:\n",
        "            cost = compute_cost(X, t, w)\n",
        "            costs.append(cost)\n",
        "            ep.append(epoch)\n",
        "            print(f'Epoch {epoch}: Cost = {cost}')\n",
        "    costs.append(cost)\n",
        "    ep.append(epochs - 1)\n",
        "    return w, ep, costs"
      ],
      "metadata": {
        "id": "cjLGKyOSSFx6"
      },
      "execution_count": 24,
      "outputs": []
    },
    {
      "cell_type": "markdown",
      "source": [
        "# Compute RMSE on dataset (X, t)."
      ],
      "metadata": {
        "id": "__C7NVD9SM70"
      }
    },
    {
      "cell_type": "code",
      "source": [
        "def compute_rmse(X, t, w):\n",
        "    y_pred = np.dot(X, w)\n",
        "    rmse = np.sqrt(np.mean((y_pred - t)**2))\n",
        "    return rmse"
      ],
      "metadata": {
        "id": "USd66XO6SPlj"
      },
      "execution_count": 6,
      "outputs": []
    },
    {
      "cell_type": "markdown",
      "source": [
        "# Compute objective function (cost) on dataset (X, t)."
      ],
      "metadata": {
        "id": "jvoR1iseSTOi"
      }
    },
    {
      "cell_type": "code",
      "source": [
        "def compute_cost(X, t, w):\n",
        "    y_pred = np.dot(X, w)\n",
        "    cost = 0.5 * np.mean((y_pred - t)**2)\n",
        "    return cost"
      ],
      "metadata": {
        "id": "KY4JDdFJSKxa"
      },
      "execution_count": 7,
      "outputs": []
    },
    {
      "cell_type": "markdown",
      "source": [
        "# Compute gradient of the objective function (cost) on dataset (X, t)."
      ],
      "metadata": {
        "id": "KE5JgXHCSYkz"
      }
    },
    {
      "cell_type": "code",
      "source": [
        "def compute_gradient(X, t, w):\n",
        "    N = len(X)\n",
        "    grad = np.dot(X.T, (np.dot(X, w) - t)) / N\n",
        "    return grad"
      ],
      "metadata": {
        "id": "S1lK6WWBSaw7"
      },
      "execution_count": 26,
      "outputs": []
    },
    {
      "cell_type": "markdown",
      "source": [
        "# BONUS: Implement stochastic gradient descent algorithm to compute w = [w0, w1]."
      ],
      "metadata": {
        "id": "1V9BzQZwShAk"
      }
    },
    {
      "cell_type": "code",
      "source": [
        "def train_SGD(X, t, eta, epochs):\n",
        "    costs = []\n",
        "    ep = []\n",
        "    w = np.zeros(X.shape[1])\n",
        "    for epoch in range(epochs):\n",
        "        for i in range(len(X)):\n",
        "            rand_idx = np.random.randint(len(X))\n",
        "            xi = X[rand_idx]\n",
        "            ti = t[rand_idx]\n",
        "            grad = compute_gradient(xi.reshape(1, -1), ti, w)\n",
        "            w -= eta * grad\n",
        "        if epoch % 10 == 0:\n",
        "            cost = compute_cost(X, t, w)\n",
        "            costs.append(cost)\n",
        "            ep.append(epoch)\n",
        "    return w, ep, costs\n"
      ],
      "metadata": {
        "id": "DKysOs5vSdaj"
      },
      "execution_count": 9,
      "outputs": []
    },
    {
      "cell_type": "markdown",
      "source": [
        "##======================= Main program =======================##\n"
      ],
      "metadata": {
        "id": "BPEOb8DCSnt4"
      }
    },
    {
      "cell_type": "code",
      "source": [
        "# Mount Google Drive\n",
        "drive.mount('/content/drive')\n",
        "\n",
        "# Define file paths\n",
        "train_file_path = '/content/drive/My Drive/data/simple/train.txt'\n",
        "test_file_path = '/content/drive/My Drive/data/simple/test.txt'\n",
        "\n",
        "# Read the training and test data.\n",
        "Xtrain, ttrain = read_data(train_file_path)\n",
        "Xtest, ttest = read_data(test_file_path)\n",
        "\n",
        "# Standardize the training and test features using the mean and std computed over *training*.\n",
        "mean, std = mean_std(Xtrain)\n",
        "Xtrain = np.hstack((np.ones((Xtrain.shape[0], 1)), standardize(Xtrain, mean, std)))\n",
        "Xtest = np.hstack((np.ones((Xtest.shape[0], 1)), standardize(Xtest, mean, std)))\n",
        "\n",
        "# Computing parameters for each training method for eta=0.1 and 200 epochs\n",
        "eta = 0.1\n",
        "epochs = 200\n",
        "\n",
        "w, eph, costs = train(Xtrain, ttrain, eta, epochs)\n",
        "wsgd, ephsgd, costssgd = train_SGD(Xtrain, ttrain, eta, epochs)\n",
        "\n",
        "# Print model parameters.\n",
        "print('Params GD: ', w)\n",
        "print('Params SGD: ', wsgd)\n",
        "\n",
        "# Print cost and RMSE on training data.\n",
        "print('Training RMSE: %0.2f.' % compute_rmse(Xtrain, ttrain, w))\n",
        "print('Training cost: %0.2f.' % compute_cost(Xtrain, ttrain, w))\n",
        "\n",
        "# Print cost and RMSE on test data.\n",
        "print('Test RMSE: %0.2f.' % compute_rmse(Xtest, ttest, w))\n",
        "print('Test cost: %0.2f.' % compute_cost(Xtest, ttest, w))\n",
        "\n",
        "# Plotting epochs vs. cost for gradient descent methods\n",
        "plt.figure(figsize=(6, 5))\n",
        "plt.xlabel('Epochs')\n",
        "plt.ylabel('Cost')\n",
        "plt.yscale('log')\n",
        "plt.plot(eph, costs, 'bo-', label='GD')\n",
        "plt.plot(ephsgd, costssgd , 'ro-', label='SGD')\n",
        "plt.legend()\n",
        "plt.savefig('epochs_vs_cost.png')\n",
        "plt.show()\n",
        "\n",
        "# Plotting floor size vs. house price\n",
        "plt.figure(figsize=(6, 5))\n",
        "plt.xlabel('Floor sizes')\n",
        "plt.ylabel('House prices')\n",
        "plt.plot(Xtrain[:, 1], ttrain, 'bo', label='Training data')\n",
        "plt.plot(Xtest[:, 1], ttest, 'g^', label='Test data')\n",
        "plt.plot(Xtest[:, 1], np.dot(Xtest, w), 'b', label='GD')\n",
        "plt.plot(Xtrain[:, 1], wsgd[0] + wsgd[1] * Xtrain[:, 1], 'g', label='SGD')\n",
        "plt.legend()\n",
        "plt.savefig('floor_size_vs_house_price.png')\n",
        "plt.show()"
      ],
      "metadata": {
        "colab": {
          "base_uri": "https://localhost:8080/",
          "height": 1000
        },
        "id": "3adrADmTSqPE",
        "outputId": "39181f89-9ed6-4e52-c1ed-7e865b177be2"
      },
      "execution_count": 31,
      "outputs": [
        {
          "output_type": "stream",
          "name": "stdout",
          "text": [
            "Drive already mounted at /content/drive; to attempt to forcibly remount, call drive.mount(\"/content/drive\", force_remount=True).\n",
            "Epoch 0: Cost = 31801147978.220097\n",
            "Epoch 10: Cost = 5669986322.805367\n",
            "Epoch 20: Cost = 2493047108.1746836\n",
            "Epoch 30: Cost = 2106805466.6222937\n",
            "Epoch 40: Cost = 2059847499.9787848\n",
            "Epoch 50: Cost = 2054138507.4878914\n",
            "Epoch 60: Cost = 2053444427.2797663\n",
            "Epoch 70: Cost = 2053360043.3300447\n",
            "Epoch 80: Cost = 2053349784.2117367\n",
            "Epoch 90: Cost = 2053348536.9424536\n",
            "Epoch 100: Cost = 2053348385.303627\n",
            "Epoch 110: Cost = 2053348366.8678858\n",
            "Epoch 120: Cost = 2053348364.62653\n",
            "Epoch 130: Cost = 2053348364.3540332\n",
            "Epoch 140: Cost = 2053348364.3209043\n",
            "Epoch 150: Cost = 2053348364.3168764\n",
            "Epoch 160: Cost = 2053348364.3163867\n",
            "Epoch 170: Cost = 2053348364.3163269\n",
            "Epoch 180: Cost = 2053348364.3163202\n",
            "Epoch 190: Cost = 2053348364.3163192\n",
            "Params GD:  [254449.99982048  93308.92004027]\n",
            "Params SGD:  [276581.05968546 105045.03207821]\n",
            "Training RMSE: 64083.51.\n",
            "Training cost: 2053348364.32.\n",
            "Test RMSE: 65773.19.\n",
            "Test cost: 2163056350.22.\n"
          ]
        },
        {
          "output_type": "display_data",
          "data": {
            "text/plain": [
              "<Figure size 600x500 with 1 Axes>"
            ],
            "image/png": "[encoded data removed]"
          },
          "metadata": {}
        },
        {
          "output_type": "display_data",
          "data": {
            "text/plain": [
              "<Figure size 600x500 with 1 Axes>"
            ],
            "image/png": "[encoded data removed]"
          },
          "metadata": {}
        }
      ]
    }
  ]
}